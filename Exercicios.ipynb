{
 "cells": [
  {
   "cell_type": "markdown",
   "id": "4b365ed5",
   "metadata": {},
   "source": [
    "# Pseudocodigo - 1 - Calcular a área de um pararelograma"
   ]
  },
  {
   "cell_type": "markdown",
   "id": "49bf85d1",
   "metadata": {},
   "source": [
    "Um paralelograma é um quadrilatero com lados opostos paralelos"
   ]
  },
  {
   "cell_type": "markdown",
   "id": "07fa4135",
   "metadata": {},
   "source": [
    "inicie\n",
    "Exiba \"Bem - vindo\" ao calculador da area de paralelograma\n",
    "Peça para o usuário inserir o comprimento da base\n",
    "armazene o comprimento da base em uma variavel\n",
    "Peça para o usuário inserir a altura\n",
    "Armazene a altura em uma variavel\n",
    "Calcule a área do paralelograma: Base * altura\n",
    "Armazene o resultado em uma variável\n",
    "Exiba o resultado\n",
    "FIM"
   ]
  },
  {
   "cell_type": "code",
   "execution_count": 2,
   "id": "0cd24105",
   "metadata": {},
   "outputs": [
    {
     "name": "stdout",
     "output_type": "stream",
     "text": [
      "Bem-vindo ao calculador de Áera de paralelograma\n"
     ]
    }
   ],
   "source": [
    "print (\"Bem-vindo ao calculador de Áera de paralelograma\")"
   ]
  },
  {
   "cell_type": "code",
   "execution_count": 4,
   "id": "d5ef804e",
   "metadata": {},
   "outputs": [
    {
     "name": "stdout",
     "output_type": "stream",
     "text": [
      "Insira o comprimento da base: 10\n"
     ]
    }
   ],
   "source": [
    "base = float (input(\"Insira o comprimento da base: \"))"
   ]
  },
  {
   "cell_type": "code",
   "execution_count": 5,
   "id": "e23517f2",
   "metadata": {},
   "outputs": [
    {
     "name": "stdout",
     "output_type": "stream",
     "text": [
      "Insira a altura:7\n"
     ]
    }
   ],
   "source": [
    "altura = float (input (\"Insira a altura:\"))"
   ]
  },
  {
   "cell_type": "code",
   "execution_count": 6,
   "id": "cdc06fcd",
   "metadata": {},
   "outputs": [],
   "source": [
    "area = base * altura"
   ]
  },
  {
   "cell_type": "code",
   "execution_count": 7,
   "id": "a0517161",
   "metadata": {},
   "outputs": [
    {
     "name": "stdout",
     "output_type": "stream",
     "text": [
      "A área do parelelograma é:  70.0\n"
     ]
    }
   ],
   "source": [
    "print (\"A área do parelelograma é: \", area)"
   ]
  },
  {
   "cell_type": "markdown",
   "id": "a6868380",
   "metadata": {},
   "source": [
    "# Pseudocodigo 2 - Calculadora"
   ]
  },
  {
   "cell_type": "markdown",
   "id": "47c5a3e1",
   "metadata": {},
   "source": [
    "Inicio\n",
    "Exiba \"Bem - vindo a calculadora\"\n",
    "Solicite um valor ao usuario\n",
    "Armazene o valor em uma variavel\n",
    "solicite um segundo valor ao usrário\n",
    "armazene o segundo valor em uma variavel\n",
    "Peça ao usuario inseguir a opção de calculo que deseja (+,-,*,/)\n",
    "Armazene a operação em uma variavel\n",
    "Exiba a resposta\n",
    "Fim"
   ]
  },
  {
   "cell_type": "code",
   "execution_count": 61,
   "id": "e828518a",
   "metadata": {},
   "outputs": [
    {
     "name": "stdout",
     "output_type": "stream",
     "text": [
      "bem-vindo a calculadora Python!\n"
     ]
    }
   ],
   "source": [
    "print (\"bem-vindo a calculadora Python!\")"
   ]
  },
  {
   "cell_type": "code",
   "execution_count": 62,
   "id": "16ee3fc6",
   "metadata": {},
   "outputs": [
    {
     "name": "stdout",
     "output_type": "stream",
     "text": [
      "Digite um numero: 4\n"
     ]
    }
   ],
   "source": [
    "num1 = float (input (\"Digite um numero: \"))"
   ]
  },
  {
   "cell_type": "code",
   "execution_count": 63,
   "id": "62386ea1",
   "metadata": {},
   "outputs": [
    {
     "name": "stdout",
     "output_type": "stream",
     "text": [
      "Digite mais um numero: 6\n"
     ]
    }
   ],
   "source": [
    "num2 = float (input (\"Digite mais um numero: \"))"
   ]
  },
  {
   "cell_type": "code",
   "execution_count": 64,
   "id": "ad4cae95",
   "metadata": {},
   "outputs": [
    {
     "name": "stdout",
     "output_type": "stream",
     "text": [
      "Digite o operador que deseja (+,-,*,/) : +\n"
     ]
    }
   ],
   "source": [
    "operacao = input(\"Digite o operador que deseja (+,-,*,/) : \")"
   ]
  },
  {
   "cell_type": "code",
   "execution_count": 65,
   "id": "37d22b64",
   "metadata": {},
   "outputs": [
    {
     "name": "stdout",
     "output_type": "stream",
     "text": [
      "O resultado é:  10.0\n"
     ]
    }
   ],
   "source": [
    "if operacao == \"+\":\n",
    "    resultado = num1 + num2\n",
    "    print(\"O resultado é: \", resultado)\n",
    "\n",
    "elif operacao == \"-\":\n",
    "    resultado = num1 - num2\n",
    "    print(\"O resultado é: \", resultado)\n",
    "\n",
    "elif operacao == \"*\":\n",
    "    resultado = num1 * num2\n",
    "    print(\"O resultado é: \", resultado)\n",
    "    \n",
    "elif operacao == \"/\":\n",
    "    resultado = num1 / num2\n",
    "    print(\"O resultado é: \", resultado)\n",
    "\n",
    "else:\n",
    "    print(\"Operação inválida.\")\n"
   ]
  },
  {
   "cell_type": "code",
   "execution_count": 57,
   "id": "5b40111f",
   "metadata": {},
   "outputs": [
    {
     "data": {
      "text/plain": [
       "10"
      ]
     },
     "execution_count": 57,
     "metadata": {},
     "output_type": "execute_result"
    }
   ],
   "source": [
    "6+4"
   ]
  },
  {
   "cell_type": "code",
   "execution_count": null,
   "id": "340c3db0",
   "metadata": {},
   "outputs": [],
   "source": []
  },
  {
   "cell_type": "code",
   "execution_count": null,
   "id": "532e13e9",
   "metadata": {},
   "outputs": [],
   "source": []
  },
  {
   "cell_type": "code",
   "execution_count": null,
   "id": "2de0a07e",
   "metadata": {},
   "outputs": [],
   "source": []
  }
 ],
 "metadata": {
  "kernelspec": {
   "display_name": "Python 3 (ipykernel)",
   "language": "python",
   "name": "python3"
  },
  "language_info": {
   "codemirror_mode": {
    "name": "ipython",
    "version": 3
   },
   "file_extension": ".py",
   "mimetype": "text/x-python",
   "name": "python",
   "nbconvert_exporter": "python",
   "pygments_lexer": "ipython3",
   "version": "3.9.13"
  }
 },
 "nbformat": 4,
 "nbformat_minor": 5
}
